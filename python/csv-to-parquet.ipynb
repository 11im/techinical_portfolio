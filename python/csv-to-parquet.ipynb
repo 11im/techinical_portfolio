{
 "cells": [
  {
   "cell_type": "code",
   "execution_count": 1,
   "metadata": {},
   "outputs": [],
   "source": [
    "from pyarrow import csv, parquet\n",
    "import pandas as pd"
   ]
  },
  {
   "cell_type": "code",
   "execution_count": 24,
   "metadata": {},
   "outputs": [],
   "source": [
    "import os, datetime"
   ]
  },
  {
   "cell_type": "code",
   "execution_count": 15,
   "metadata": {},
   "outputs": [],
   "source": [
    "path = \"../csv/\"\n",
    "field1 = [\"field1.csv\",\"field1_2.csv\",\"field1_3.csv\",\"field1_4.csv\"]\n",
    "field2 = [\"field2.csv\",\"field2_2.csv\",\"field2_3.csv\",\"field2_4.csv\"]\n",
    "field3 = [\"field3.csv\"]\n",
    "field4 = [\"field4.csv\"]\n",
    "field5 = [\"field5.csv\"]\n",
    "field6 = [\"field6.csv\",\"field6_2.csv\",\"field6_3.csv\",\"field6_4.csv\"]\n",
    "fields = [field1,field2,field3,field4,field5,field6]\n"
   ]
  },
  {
   "cell_type": "code",
   "execution_count": 3,
   "metadata": {},
   "outputs": [],
   "source": [
    "for field in fields:\n",
    "    mainDf = pd.DataFrame()\n",
    "    for file in field:\n",
    "        filePath = path + file\n",
    "        table = csv.read_csv(filePath)"
   ]
  },
  {
   "cell_type": "code",
   "execution_count": 61,
   "metadata": {},
   "outputs": [],
   "source": [
    "filePath = path + fields[1][0]\n",
    "table = csv.read_csv(filePath)"
   ]
  },
  {
   "cell_type": "code",
   "execution_count": 62,
   "metadata": {},
   "outputs": [],
   "source": [
    "df = table.to_pandas()"
   ]
  },
  {
   "cell_type": "code",
   "execution_count": 63,
   "metadata": {},
   "outputs": [],
   "source": [
    "df.rename(columns = {'name':'FIELD'}, inplace = True)"
   ]
  },
  {
   "cell_type": "code",
   "execution_count": 69,
   "metadata": {},
   "outputs": [],
   "source": [
    "df = df.drop(columns='NAME')"
   ]
  },
  {
   "cell_type": "code",
   "execution_count": 70,
   "metadata": {},
   "outputs": [
    {
     "data": {
      "text/html": [
       "<div>\n",
       "<style scoped>\n",
       "    .dataframe tbody tr th:only-of-type {\n",
       "        vertical-align: middle;\n",
       "    }\n",
       "\n",
       "    .dataframe tbody tr th {\n",
       "        vertical-align: top;\n",
       "    }\n",
       "\n",
       "    .dataframe thead th {\n",
       "        text-align: right;\n",
       "    }\n",
       "</style>\n",
       "<table border=\"1\" class=\"dataframe\">\n",
       "  <thead>\n",
       "    <tr style=\"text-align: right;\">\n",
       "      <th></th>\n",
       "      <th>FIELD</th>\n",
       "      <th>time</th>\n",
       "      <th>SERVICE_AC_ACTIVE_POWER</th>\n",
       "      <th>SERVICE_AC_VOLTAGE_R</th>\n",
       "      <th>SERVICE_AC_VOLTAGE_RS</th>\n",
       "      <th>SERVICE_AC_VOLTAGE_S</th>\n",
       "      <th>SERVICE_AC_VOLTAGE_ST</th>\n",
       "      <th>SERVICE_AC_VOLTAGE_T</th>\n",
       "      <th>SERVICE_AC_VOLTAGE_TR</th>\n",
       "      <th>SERVICE_DC_CURRENT</th>\n",
       "      <th>SERVICE_DC_VOLTAGE</th>\n",
       "      <th>SERVICE_FREQUENCY</th>\n",
       "      <th>SERVICE_ID</th>\n",
       "      <th>SERVICE_IGBT_MAX_TEMPERATURE</th>\n",
       "    </tr>\n",
       "  </thead>\n",
       "  <tbody>\n",
       "    <tr>\n",
       "      <th>0</th>\n",
       "      <td>field2</td>\n",
       "      <td>1686515197000000000</td>\n",
       "      <td>0.0</td>\n",
       "      <td>0.0</td>\n",
       "      <td>0.0</td>\n",
       "      <td>0.0</td>\n",
       "      <td>0.0</td>\n",
       "      <td>0.0</td>\n",
       "      <td>0.0</td>\n",
       "      <td>0.0</td>\n",
       "      <td>1.0</td>\n",
       "      <td>0.00</td>\n",
       "      <td>1</td>\n",
       "      <td>24.0</td>\n",
       "    </tr>\n",
       "    <tr>\n",
       "      <th>1</th>\n",
       "      <td>field2</td>\n",
       "      <td>1686515197000000000</td>\n",
       "      <td>222.2</td>\n",
       "      <td>888.8</td>\n",
       "      <td>381.2</td>\n",
       "      <td>888.8</td>\n",
       "      <td>382.2</td>\n",
       "      <td>888.8</td>\n",
       "      <td>380.1</td>\n",
       "      <td>432.1</td>\n",
       "      <td>890.4</td>\n",
       "      <td>60.03</td>\n",
       "      <td>3</td>\n",
       "      <td>56.4</td>\n",
       "    </tr>\n",
       "    <tr>\n",
       "      <th>2</th>\n",
       "      <td>field2</td>\n",
       "      <td>1686515197000000000</td>\n",
       "      <td>0.0</td>\n",
       "      <td>0.0</td>\n",
       "      <td>0.0</td>\n",
       "      <td>0.0</td>\n",
       "      <td>0.0</td>\n",
       "      <td>0.0</td>\n",
       "      <td>0.0</td>\n",
       "      <td>0.0</td>\n",
       "      <td>0.0</td>\n",
       "      <td>0.00</td>\n",
       "      <td>2</td>\n",
       "      <td>22.0</td>\n",
       "    </tr>\n",
       "    <tr>\n",
       "      <th>3</th>\n",
       "      <td>field2</td>\n",
       "      <td>1686515199000000000</td>\n",
       "      <td>222.2</td>\n",
       "      <td>888.8</td>\n",
       "      <td>381.2</td>\n",
       "      <td>888.8</td>\n",
       "      <td>382.2</td>\n",
       "      <td>888.8</td>\n",
       "      <td>380.1</td>\n",
       "      <td>432.1</td>\n",
       "      <td>890.4</td>\n",
       "      <td>60.03</td>\n",
       "      <td>3</td>\n",
       "      <td>56.4</td>\n",
       "    </tr>\n",
       "    <tr>\n",
       "      <th>4</th>\n",
       "      <td>field2</td>\n",
       "      <td>1686515199000000000</td>\n",
       "      <td>0.0</td>\n",
       "      <td>0.0</td>\n",
       "      <td>0.0</td>\n",
       "      <td>0.0</td>\n",
       "      <td>0.0</td>\n",
       "      <td>0.0</td>\n",
       "      <td>0.0</td>\n",
       "      <td>0.0</td>\n",
       "      <td>0.0</td>\n",
       "      <td>0.00</td>\n",
       "      <td>2</td>\n",
       "      <td>22.0</td>\n",
       "    </tr>\n",
       "  </tbody>\n",
       "</table>\n",
       "</div>"
      ],
      "text/plain": [
       "    FIELD                 time  SERVICE_AC_ACTIVE_POWER  SERVICE_AC_VOLTAGE_R  \\\n",
       "0  field2  1686515197000000000                      0.0                   0.0   \n",
       "1  field2  1686515197000000000                    222.2                 888.8   \n",
       "2  field2  1686515197000000000                      0.0                   0.0   \n",
       "3  field2  1686515199000000000                    222.2                 888.8   \n",
       "4  field2  1686515199000000000                      0.0                   0.0   \n",
       "\n",
       "   SERVICE_AC_VOLTAGE_RS  SERVICE_AC_VOLTAGE_S  SERVICE_AC_VOLTAGE_ST  \\\n",
       "0                    0.0                   0.0                    0.0   \n",
       "1                  381.2                 888.8                  382.2   \n",
       "2                    0.0                   0.0                    0.0   \n",
       "3                  381.2                 888.8                  382.2   \n",
       "4                    0.0                   0.0                    0.0   \n",
       "\n",
       "   SERVICE_AC_VOLTAGE_T  SERVICE_AC_VOLTAGE_TR  SERVICE_DC_CURRENT  \\\n",
       "0                   0.0                    0.0                 0.0   \n",
       "1                 888.8                  380.1               432.1   \n",
       "2                   0.0                    0.0                 0.0   \n",
       "3                 888.8                  380.1               432.1   \n",
       "4                   0.0                    0.0                 0.0   \n",
       "\n",
       "   SERVICE_DC_VOLTAGE  SERVICE_FREQUENCY  SERVICE_ID  \\\n",
       "0                 1.0               0.00           1   \n",
       "1               890.4              60.03           3   \n",
       "2                 0.0               0.00           2   \n",
       "3               890.4              60.03           3   \n",
       "4                 0.0               0.00           2   \n",
       "\n",
       "   SERVICE_IGBT_MAX_TEMPERATURE  \n",
       "0                          24.0  \n",
       "1                          56.4  \n",
       "2                          22.0  \n",
       "3                          56.4  \n",
       "4                          22.0  "
      ]
     },
     "execution_count": 70,
     "metadata": {},
     "output_type": "execute_result"
    }
   ],
   "source": [
    "df.head()"
   ]
  },
  {
   "cell_type": "code",
   "execution_count": 71,
   "metadata": {},
   "outputs": [],
   "source": [
    "df[\"time\"]=df[\"time\"].map(lambda x: datetime.datetime.fromtimestamp(x/1000000000))"
   ]
  },
  {
   "cell_type": "code",
   "execution_count": 72,
   "metadata": {},
   "outputs": [],
   "source": [
    "df[\"time\"]=df[\"time\"].map(lambda x: datetime.datetime.strftime(x,'%Y-%m-%dT%H:%M:%SZ'))"
   ]
  },
  {
   "cell_type": "code",
   "execution_count": null,
   "metadata": {},
   "outputs": [],
   "source": [
    "df.set_index([\"time\",\"SERVICE_ID\",\"FIELD\"])"
   ]
  },
  {
   "cell_type": "code",
   "execution_count": null,
   "metadata": {},
   "outputs": [],
   "source": [
    "df.to_parquet(path=\"../data/compacted.gzip\",engine=\"pyarrow\",compression=\"gzip\",index=True,partition_cols=[\"name\",\"tags\"])"
   ]
  },
  {
   "cell_type": "code",
   "execution_count": null,
   "metadata": {},
   "outputs": [],
   "source": [
    "tmp = parquet.read_table(\"../data/compacted.gzip/\")"
   ]
  },
  {
   "cell_type": "code",
   "execution_count": null,
   "metadata": {},
   "outputs": [],
   "source": [
    "tmp"
   ]
  }
 ],
 "metadata": {
  "kernelspec": {
   "display_name": "Python 3",
   "language": "python",
   "name": "python3"
  },
  "language_info": {
   "codemirror_mode": {
    "name": "ipython",
    "version": 3
   },
   "file_extension": ".py",
   "mimetype": "text/x-python",
   "name": "python",
   "nbconvert_exporter": "python",
   "pygments_lexer": "ipython3",
   "version": "3.6.9"
  },
  "orig_nbformat": 4
 },
 "nbformat": 4,
 "nbformat_minor": 2
}
